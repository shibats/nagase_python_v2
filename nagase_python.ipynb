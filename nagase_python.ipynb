{
 "cells": [
  {
   "cell_type": "markdown",
   "metadata": {},
   "source": [
    "## Pythonで計算をする"
   ]
  },
  {
   "cell_type": "code",
   "execution_count": null,
   "metadata": {},
   "outputs": [],
   "source": [
    "1+2+3+4"
   ]
  },
  {
   "cell_type": "code",
   "execution_count": null,
   "metadata": {},
   "outputs": [],
   "source": [
    "2*4+3-1"
   ]
  },
  {
   "cell_type": "code",
   "execution_count": null,
   "metadata": {},
   "outputs": [],
   "source": [
    "3*4/1-2"
   ]
  },
  {
   "cell_type": "markdown",
   "metadata": {},
   "source": [
    "## 変数を使う"
   ]
  },
  {
   "cell_type": "code",
   "execution_count": null,
   "metadata": {},
   "outputs": [],
   "source": [
    "半径 = 10\n",
    "円周率 = 3.14\n",
    "半径*半径*円周率"
   ]
  },
  {
   "cell_type": "code",
   "execution_count": null,
   "metadata": {},
   "outputs": [],
   "source": [
    "r = 10\n",
    "pi = 3.14\n",
    "r**2*pi"
   ]
  },
  {
   "cell_type": "markdown",
   "metadata": {},
   "source": [
    "## より複雑な数式の計算\n",
    "\n",
    "振り子の周期(微小単振動)\n",
    "\n",
    "$$\n",
    "t = 2\\pi\\sqrt{\\frac{l}{g}}\n",
    "$$"
   ]
  },
  {
   "cell_type": "code",
   "execution_count": null,
   "metadata": {},
   "outputs": [],
   "source": [
    "g = 9.8   # (地球の)重力加速度\n",
    "l = 10    # 振り子の長さ(cm)\n",
    "m = l/100 # 長さをmに直す\n",
    "a = (m/g)**0.5  # ルートの部分を計算"
   ]
  },
  {
   "cell_type": "code",
   "execution_count": null,
   "metadata": {
    "tags": []
   },
   "outputs": [],
   "source": [
    "a  # 途中経過を表示"
   ]
  },
  {
   "cell_type": "code",
   "execution_count": null,
   "metadata": {},
   "outputs": [],
   "source": [
    "a = 2*3.14*a  # 残りの計算を実行"
   ]
  },
  {
   "cell_type": "code",
   "execution_count": null,
   "metadata": {},
   "outputs": [],
   "source": [
    "a  # 結果を表示"
   ]
  },
  {
   "cell_type": "code",
   "execution_count": null,
   "metadata": {},
   "outputs": [],
   "source": [
    "# 計算式の再利用(関数)\n",
    "# 振り子の長さ(cm)から\n",
    "# 周期(simple harmonic motion)を計算する関数\n",
    "def shm(l):\n",
    "    g = 9.8\n",
    "    m = l/100\n",
    "    a = (m/g)**0.5\n",
    "    a = 2*3.14*a\n",
    "    return a"
   ]
  },
  {
   "cell_type": "code",
   "execution_count": null,
   "metadata": {},
   "outputs": [],
   "source": [
    "shm(10)"
   ]
  },
  {
   "cell_type": "code",
   "execution_count": null,
   "metadata": {},
   "outputs": [],
   "source": [
    "# 振り子の長さをいろいろに換えて，周期を計算してみる\n",
    "shm(10)"
   ]
  },
  {
   "cell_type": "code",
   "execution_count": null,
   "metadata": {
    "tags": []
   },
   "outputs": [],
   "source": [
    "shm(20)"
   ]
  },
  {
   "cell_type": "code",
   "execution_count": null,
   "metadata": {
    "tags": []
   },
   "outputs": [],
   "source": [
    "a = shm(30)\n",
    "print(a)   # print()関数を使って結果の変数を表示"
   ]
  },
  {
   "cell_type": "code",
   "execution_count": null,
   "metadata": {
    "tags": []
   },
   "outputs": [],
   "source": [
    "# 長さを順に換えながら周期を計算\n",
    "for i in range(30):\n",
    "    a = shm(i)\n",
    "    print(i, a)"
   ]
  },
  {
   "cell_type": "markdown",
   "metadata": {},
   "source": [
    "### スライドに戻ります"
   ]
  },
  {
   "cell_type": "markdown",
   "metadata": {},
   "source": [
    "## ○×ゲームの対戦プログラムを作る"
   ]
  },
  {
   "cell_type": "markdown",
   "metadata": {},
   "source": [
    "|  1  |  2  |  3  |\n",
    "|:---:|:---:|:---:|\n",
    "|  4  |  <5>  |  6  |\n",
    "|  7  |   8  |  9  |"
   ]
  },
  {
   "cell_type": "code",
   "execution_count": null,
   "metadata": {},
   "outputs": [],
   "source": [
    "# コンピュータが一手目に5を選んだ状態を考える\n",
    "p1 = 1  # 人間が一回目にどのマスを選ぶか\n",
    "if p1 == 1:  # 1を選んだ場合\n",
    "    c2 = 7  # コンピュータは次に7を選ぶ"
   ]
  },
  {
   "cell_type": "code",
   "execution_count": null,
   "metadata": {
    "tags": []
   },
   "outputs": [],
   "source": [
    "print(c2)  # コンピュータが2回目に選ぶマスを表示"
   ]
  },
  {
   "cell_type": "code",
   "execution_count": null,
   "metadata": {},
   "outputs": [],
   "source": [
    "# コンピュータが一手目に5を選んだ状態を考える\n",
    "p1 = 3  # 人間が一回目にどのマスを選ぶか\n",
    "if p1 == 1:  # 1を選んだ場合\n",
    "    c2 = 7  # コンピュータは次に7を選ぶ\n",
    "if p1 == 3:  # 3を選んだ場合\n",
    "    c2 = 9  # コンピュータは次に9を選ぶ\n",
    "if p1 == 7:  # 7を選んだ場合\n",
    "    c2 = 1  # コンピュータは次に1を選ぶ\n",
    "if p1 == 9:  # 9を選んだ場合\n",
    "    c2 = 3  # コンピュータは次に3を選ぶ"
   ]
  },
  {
   "cell_type": "code",
   "execution_count": null,
   "metadata": {
    "tags": []
   },
   "outputs": [],
   "source": [
    "print(c2)  # コンピュータが2回目に選ぶマスを表示"
   ]
  },
  {
   "cell_type": "markdown",
   "metadata": {},
   "source": [
    "|  1  |  2  |  {3}  |\n",
    "|:---:|:---:|:---:|\n",
    "|  4  |  <5>  |  6  |\n",
    "|  7  |   8  |  <9>  |"
   ]
  },
  {
   "cell_type": "code",
   "execution_count": null,
   "metadata": {},
   "outputs": [],
   "source": [
    "# コンピュータが5,9，人間が3を選んだ状態で\n",
    "p2 = 1  # プレイヤーが一回目にどのマスを選ぶか\n",
    "if p2 == 1:  # 1を選んだ場合\n",
    "    c3 = 2  # コンピュータは次に2を選ぶ\n",
    "else:  # 3を選んだ場合\n",
    "    c3 = 1  # コンピュータは次に1を選ぶ"
   ]
  },
  {
   "cell_type": "code",
   "execution_count": null,
   "metadata": {
    "tags": []
   },
   "outputs": [],
   "source": [
    "print(c3)  # コンピュータが3回目に選ぶマスを表示"
   ]
  },
  {
   "cell_type": "markdown",
   "metadata": {},
   "source": [
    "### スライドに戻ります"
   ]
  },
  {
   "cell_type": "markdown",
   "metadata": {},
   "source": [
    "## ライブラリを使う"
   ]
  },
  {
   "cell_type": "code",
   "execution_count": null,
   "metadata": {},
   "outputs": [],
   "source": [
    "# データ処理用のライブラリを読み込む\n",
    "import pandas as pd\n",
    "url = \"https://raw.githubusercontent.com/shibats/minpy_samplecodes_4th/master/Chapter12/total_fertility_rate.csv\"\n",
    "df = pd.read_csv(url)   # 日本の出生率(合計特殊出生率)を読み込む"
   ]
  },
  {
   "cell_type": "code",
   "execution_count": null,
   "metadata": {},
   "outputs": [],
   "source": [
    "df  # 読み込んだデータを表示"
   ]
  },
  {
   "cell_type": "code",
   "execution_count": null,
   "metadata": {},
   "outputs": [],
   "source": [
    "df.T.plot()  # グラフを表示"
   ]
  },
  {
   "cell_type": "code",
   "execution_count": null,
   "metadata": {
    "tags": []
   },
   "outputs": [],
   "source": [
    "!pip install gtts  # 音声合成ライブラリをインストール"
   ]
  },
  {
   "cell_type": "code",
   "execution_count": null,
   "metadata": {},
   "outputs": [],
   "source": [
    "from gtts import gTTS   # 音声合成ライブラリを読み込む\n",
    "\n",
    "eword = \"Machine Learning is a elemental technology of AI\"\n",
    "\n",
    "tts = gTTS(eword)  # 文字列を音声に変換\n",
    "tts.save(\"english.mp3\")  # 音声を保存\n"
   ]
  },
  {
   "cell_type": "code",
   "execution_count": null,
   "metadata": {},
   "outputs": [],
   "source": [
    "# 音声ファイルを再生する\n",
    "\n",
    "import IPython.display\n",
    "IPython.display.Audio(\"english.mp3\")"
   ]
  },
  {
   "cell_type": "code",
   "execution_count": null,
   "metadata": {},
   "outputs": [],
   "source": [
    "# 日本語の文字列を音声ファイルに変換\n",
    "jword = \"機械学習は人工知能の要素技術のひとつです\"\n",
    "tts = gTTS(text=jword, lang=\"ja\")\n",
    "tts.save(\"japanese.mp3\")"
   ]
  },
  {
   "cell_type": "code",
   "execution_count": null,
   "metadata": {},
   "outputs": [],
   "source": [
    "# 音声ファイルを再生する\n",
    "IPython.display.Audio(\"japanese.mp3\")"
   ]
  },
  {
   "cell_type": "markdown",
   "metadata": {},
   "source": [
    "### スライドに戻ります"
   ]
  },
  {
   "cell_type": "markdown",
   "metadata": {},
   "source": [
    "## Webサイトから情報を得る(スクレイピング)"
   ]
  },
  {
   "cell_type": "code",
   "execution_count": null,
   "metadata": {},
   "outputs": [],
   "source": [
    "# ライブラリを読み込む\n",
    "\n",
    "import requests  # Webサイトを文字列として読み込むライブラリ\n",
    "from bs4 import BeautifulSoup  # HTML検索/抽出するライブラリ\n",
    "\n",
    "# WebサイトのHTMLを文字列としてPythonに読み込む\n",
    "html = requests.get(\"https://www.nikkei.com/nkd/company/history/dprice/?scode=7203&ba=1\")\n",
    "\n",
    "# HTMLを検索用に変換\n",
    "soup = BeautifulSoup(html.content, \"html.parser\")\n",
    "\n",
    "# 株価の表部分だけを絞り込む\n",
    "tbody = soup.find('tbody')\n",
    "tbody  # 絞り込んだ結果を確認"
   ]
  },
  {
   "cell_type": "code",
   "execution_count": null,
   "metadata": {
    "tags": []
   },
   "outputs": [],
   "source": [
    "# 表から，日付と数字に相当する文字列をすべて取り出す\n",
    "# 表の要素でループ\n",
    "for tr in tbody.find_all('tr'):\n",
    "    sdate = tr.th  # 日付\n",
    "    sopen = tr.td  # 始値\n",
    "    shigh = sopen.find_next('td') # 高値\n",
    "    slow = shigh.find_next('td')  # 安値\n",
    "    sclose = slow.find_next('td') # 終値\n",
    "    # 抜き出した情報を表示する    \n",
    "    print(sdate.text, sopen.text, shigh.text, slow.text, sclose.text)"
   ]
  },
  {
   "cell_type": "code",
   "execution_count": null,
   "metadata": {},
   "outputs": [],
   "source": [
    "import pandas as pd\n",
    "# 表から，日付と数字に相当する文字列を取り出す\n",
    "sprice = []  # データを保存する変数\n",
    "\n",
    "for tr in tbody.find_all('tr'):\n",
    "    date = tr.th  # 日付\n",
    "    sopen = tr.td  # 始値\n",
    "    shigh = sopen.find_next('td') # 高値\n",
    "    slow = shigh.find_next('td')  # 安値\n",
    "    sclose = slow.find_next('td') # 終値\n",
    "    sprice.append({'date':sdate.text.strip(),\n",
    "                  'open':int(sopen.text.replace(',', '')),\n",
    "                  'high':int(shigh.text.replace(',', '')),\n",
    "                  'low':int(slow.text.replace(',', '')),\n",
    "                  'close':int(sclose.text.replace(',', '')),\n",
    "                  })\n",
    "\n",
    "# データをまとめる\n",
    "df = pd.DataFrame(data=sprice, columns=[\"date\", \"open\", \"high\", \"low\", \"close\"])\n"
   ]
  },
  {
   "cell_type": "code",
   "execution_count": null,
   "metadata": {},
   "outputs": [],
   "source": [
    "df.plot() # グラフを表示する"
   ]
  },
  {
   "cell_type": "markdown",
   "metadata": {},
   "source": [
    "### スライドに戻ります"
   ]
  },
  {
   "cell_type": "markdown",
   "metadata": {},
   "source": [
    "## AIと機械学習"
   ]
  },
  {
   "cell_type": "code",
   "execution_count": null,
   "metadata": {},
   "outputs": [],
   "source": [
    "# データ処理用のライブラリを読み込む\n",
    "import pandas as pd\n",
    "# ある企業の10年間の株価データを読み込む\n",
    "stockchart = pd.read_csv(\"https://raw.githubusercontent.com/shibats/nagase_python_v2/master/stock_chart.csv\")"
   ]
  },
  {
   "cell_type": "code",
   "execution_count": null,
   "metadata": {},
   "outputs": [],
   "source": [
    "stockchart[:10] # データを表示(直近10件)"
   ]
  },
  {
   "cell_type": "code",
   "execution_count": null,
   "metadata": {},
   "outputs": [],
   "source": [
    "stockchart.plot()  # グラフを描画する"
   ]
  },
  {
   "cell_type": "code",
   "execution_count": null,
   "metadata": {},
   "outputs": [],
   "source": [
    "# 終値の40件(最古のデータから)のグラフを描画する\n",
    "stockchart['close'][-40:].plot()"
   ]
  },
  {
   "cell_type": "markdown",
   "metadata": {},
   "source": [
    "### 最小二乗法を使った多項式近似(線形回帰)"
   ]
  },
  {
   "cell_type": "code",
   "execution_count": null,
   "metadata": {},
   "outputs": [],
   "source": [
    "import numpy as np  # 数値計算用のライブラリを読み込む\n",
    "x = np.arange(40)  # 近似用にx軸の数(0から39まで)を作る\n",
    "y = stockchart['close'][-40:]  # 近似するデータ"
   ]
  },
  {
   "cell_type": "code",
   "execution_count": null,
   "metadata": {},
   "outputs": [],
   "source": [
    "# 1次式で近似\n",
    "cf1 = np.polyfit(x, y, 1)"
   ]
  },
  {
   "cell_type": "code",
   "execution_count": null,
   "metadata": {},
   "outputs": [],
   "source": [
    "cf1  # 近似結果(係数と切片)を表示"
   ]
  },
  {
   "cell_type": "code",
   "execution_count": null,
   "metadata": {},
   "outputs": [],
   "source": [
    "# グラフ描画用のライブラリを読み込む\n",
    "from matplotlib import pyplot as plt\n",
    "\n",
    "# 元のデータと，近似した結果をグラ字数描画する\n",
    "plt.plot(x, y, linestyle=':')\n",
    "plt.plot(x, np.poly1d(cf1)(x))\n"
   ]
  },
  {
   "cell_type": "code",
   "execution_count": null,
   "metadata": {},
   "outputs": [],
   "source": [
    "# 近似式の字数を上げてためす\n",
    "cf2 = np.polyfit(x, y, 2) # 2次\n",
    "cf8 = np.polyfit(x, y, 8) # 8次\n"
   ]
  },
  {
   "cell_type": "code",
   "execution_count": null,
   "metadata": {},
   "outputs": [],
   "source": [
    "# 各次数の係数を確認する\n",
    "cf8"
   ]
  },
  {
   "cell_type": "code",
   "execution_count": null,
   "metadata": {},
   "outputs": [],
   "source": [
    "# 元のデータと，近似した結果をグラ字数描画する\n",
    "plt.plot(x, y, linestyle=':')\n",
    "plt.plot(x, np.poly1d(cf1)(x))\n",
    "plt.plot(x, np.poly1d(cf2)(x))\n",
    "plt.plot(x, np.poly1d(cf8)(x))\n"
   ]
  },
  {
   "cell_type": "code",
   "execution_count": null,
   "metadata": {},
   "outputs": [],
   "source": [
    "# 10件延長して，補間結果が正しいか確認する\n",
    "\n",
    "xl = np.arange(50)\n",
    "# 実際の株価(10件延長)\n",
    "plt.plot(xl, stockchart['close'][-50:], linestyle=\":\")\n",
    "# 次数8の補間式を使って先までグラフを描く\n",
    "plt.plot(xl, np.poly1d(cf8)(xl))"
   ]
  },
  {
   "cell_type": "markdown",
   "metadata": {},
   "source": [
    "## ディープラーニング(LSTM)で線形補間"
   ]
  },
  {
   "cell_type": "code",
   "execution_count": null,
   "metadata": {},
   "outputs": [],
   "source": [
    "# 必要なライブラリを読み込む\n",
    "\n",
    "from matplotlib import pyplot as plt\n",
    "from sklearn import model_selection\n",
    "from sklearn.metrics import confusion_matrix\n",
    "from sklearn.preprocessing import StandardScaler\n",
    "from sklearn.model_selection import train_test_split\n",
    "import numpy as np\n",
    "import pandas as pd\n",
    "from sklearn.preprocessing import MinMaxScaler\n",
    "from keras.models import Sequential\n",
    "from keras.layers import Dense\n",
    "from keras.layers import LSTM\n",
    "from keras.layers import Dropout"
   ]
  },
  {
   "cell_type": "code",
   "execution_count": null,
   "metadata": {
    "tags": []
   },
   "outputs": [],
   "source": [
    "train = [[x] for x in stockchart['close'][:-120]]\n",
    "sc = MinMaxScaler(feature_range=(0, 1))\n",
    "trainin_sc = sc.fit_transform(train)\n",
    "\n",
    "xtrain = []\n",
    "ytrain = []\n",
    "for i in range(60, len(train)-120):\n",
    "    xtrain.append(trainin_sc[i-60:i, 0])\n",
    "    ytrain.append(trainin_sc[i, 0]) \n",
    "xtrain = np.array(xtrain)\n",
    "ytrain = np.array(ytrain)\n",
    "xtrain = np.reshape(xtrain, (xtrain.shape[0], xtrain.shape[1], 1))\n"
   ]
  },
  {
   "cell_type": "code",
   "execution_count": null,
   "metadata": {},
   "outputs": [],
   "source": [
    "regressor = Sequential()\n",
    "regressor.add(LSTM(units=50, return_sequences = True, input_shape = (xtrain.shape[1], 1)))\n",
    "regressor.add(Dropout(0.2))\n",
    "regressor.add(LSTM(units=50, return_sequences = True))\n",
    "regressor.add(Dropout(0.2))\n",
    "regressor.add(LSTM(units=50, return_sequences = True))\n",
    "regressor.add(Dropout(0.2))\n",
    "regressor.add(LSTM(units=50))\n",
    "regressor.add(Dropout(0.2))\n",
    "regressor.add(Dense(units=1))"
   ]
  },
  {
   "cell_type": "code",
   "execution_count": null,
   "metadata": {
    "tags": []
   },
   "outputs": [],
   "source": [
    "regressor.compile(optimizer='adam', loss='mean_squared_error')\n",
    "regressor.fit(xtrain, ytrain, epochs=8, batch_size=32)"
   ]
  },
  {
   "cell_type": "code",
   "execution_count": null,
   "metadata": {},
   "outputs": [],
   "source": [
    "stock_price = [[x] for x in stockchart['close'][-120:]]\n",
    "dataset = stockchart['close']\n",
    "inputs = dataset[len(dataset) - 120 - 60:].values\n",
    "inputs = inputs.reshape(-1,1)\n",
    "inputs = sc.transform(inputs)\n",
    "xtest = []\n",
    "for i in range(60, len(stock_price)+60):\n",
    "    xtest.append(inputs[i-60:i, 0])\n",
    "xtest = np.array(xtest)\n",
    "xtest = np.reshape(xtest, (xtest.shape[0], xtest.shape[1], 1))"
   ]
  },
  {
   "cell_type": "code",
   "execution_count": null,
   "metadata": {},
   "outputs": [],
   "source": [
    "predicted = regressor.predict(xtest)\n",
    "predicted = sc.inverse_transform(predicted)"
   ]
  },
  {
   "cell_type": "code",
   "execution_count": null,
   "metadata": {
    "tags": []
   },
   "outputs": [],
   "source": [
    "plt.figure(figsize=(20,10))\n",
    "plt.plot(stock_price, linestyle = ':')\n",
    "plt.plot(predicted)\n",
    "plt.show()"
   ]
  },
  {
   "cell_type": "code",
   "execution_count": null,
   "metadata": {},
   "outputs": [],
   "source": []
  }
 ],
 "metadata": {
  "kernelspec": {
   "display_name": "Python 3",
   "language": "python",
   "name": "python3"
  },
  "language_info": {
   "codemirror_mode": {
    "name": "ipython",
    "version": 3
   },
   "file_extension": ".py",
   "mimetype": "text/x-python",
   "name": "python",
   "nbconvert_exporter": "python",
   "pygments_lexer": "ipython3",
   "version": "3.7.3-final"
  }
 },
 "nbformat": 4,
 "nbformat_minor": 2
}